{
 "cells": [
  {
   "cell_type": "code",
   "execution_count": 17,
   "id": "93547f62",
   "metadata": {},
   "outputs": [
    {
     "name": "stdout",
     "output_type": "stream",
     "text": [
      "emp1 {'name': 'john', 'salary': 7500}\n",
      "emp2 {'name': 'Emma', 'salary': 8000}\n",
      "emp3 {'name': 'brad', 'salary': 8500}\n"
     ]
    }
   ],
   "source": [
    "#task 1\n",
    "sample_dict={ 'emp1':{'name':'john','salary':7500}, 'emp2':{'name':'Emma','salary':8000}, 'emp3':{'name':'brad','salary':500}}\n",
    "sample_dict['emp3']['salary']=8500\n",
    "for x,y in sample_dict.items():\n",
    "    print(x ,y)\n",
    "    \n"
   ]
  },
  {
   "cell_type": "code",
   "execution_count": 18,
   "id": "8cc4fc60",
   "metadata": {},
   "outputs": [
    {
     "name": "stdout",
     "output_type": "stream",
     "text": [
      "maths\n"
     ]
    }
   ],
   "source": [
    "#task 2\n",
    "sample_dict={'physics':82, 'maths':65,'history':75}\n",
    "y=min(sample_dict,key=sample_dict.get)\n",
    "print (y)"
   ]
  },
  {
   "cell_type": "code",
   "execution_count": 4,
   "id": "5ad61ed5",
   "metadata": {},
   "outputs": [
    {
     "name": "stdout",
     "output_type": "stream",
     "text": [
      "name kelly\n",
      "age 25\n",
      "salary 8000\n",
      "location newyork\n"
     ]
    }
   ],
   "source": [
    "#task 3\n",
    "sample_dict={\"name\":\"kelly\", \"age\":25, \"salary\":8000,\"city\":\"newyork\"}\n",
    "sample_dict['location']=sample_dict.pop('city')\n",
    "for x,y in sample_dict.items():\n",
    "    print(x,y)"
   ]
  },
  {
   "cell_type": "code",
   "execution_count": 30,
   "id": "5842da73",
   "metadata": {},
   "outputs": [
    {
     "name": "stdout",
     "output_type": "stream",
     "text": [
      "exists\n"
     ]
    }
   ],
   "source": [
    "#task 4\n",
    "sample_dict={'a':100,'b':200,'c':300}\n",
    "for x in sample_dict.values():\n",
    "    if x==200:\n",
    "        print('exists')"
   ]
  },
  {
   "cell_type": "code",
   "execution_count": 31,
   "id": "c76ed35f",
   "metadata": {},
   "outputs": [
    {
     "name": "stdout",
     "output_type": "stream",
     "text": [
      "age 25\n",
      "city new york\n"
     ]
    }
   ],
   "source": [
    "#task 5\n",
    "sample_dict={\"name\":\"kelly\", \"age\":25,\"salary\":8000,\"city\":\"new york\"}\n",
    "del sample_dict[\"name\"]\n",
    "del sample_dict[\"salary\"]\n",
    "\n",
    "for x,y in sample_dict.items():\n",
    "    print (x,y)\n"
   ]
  },
  {
   "cell_type": "code",
   "execution_count": 1,
   "id": "eb7a546d",
   "metadata": {},
   "outputs": [
    {
     "name": "stdout",
     "output_type": "stream",
     "text": [
      "enter name : aaa\n",
      "enter roll no. :101\n",
      "enter gpa : 2.3\n",
      "enter name : aab\n",
      "enter roll no. :102\n",
      "enter gpa : 3.0\n",
      "enter name : aac\n",
      "enter roll no. :103\n",
      "enter gpa : 3.3\n",
      "enter name : aad\n",
      "enter roll no. :104\n",
      "enter gpa : 2.5\n",
      "enter name : aae\n",
      "enter roll no. :105\n",
      "enter gpa : 3.22\n",
      "Enter roll no. of the student : 102\n",
      "FOUND....\n",
      "\n",
      "{'NAME': 'aab', 'ROLL NO': '102', 'GPA': 3.0}\n"
     ]
    }
   ],
   "source": [
    "#task 6\n",
    "students={}\n",
    "for x in range (1,6):\n",
    "    n=input('enter name : ')\n",
    "    Id=input('enter roll no. :')\n",
    "    gpa=float(input('enter gpa : '))\n",
    "    students['Student '+str(x)]={\"NAME\":n,\"ROLL NO\":Id,\"GPA\":gpa }\n",
    "\n",
    "find=input(\"Enter roll no. of the student : \")\n",
    "for y in students.values():\n",
    "    if y[\"ROLL NO\"]==find:\n",
    "        print(\"FOUND....\\n\")\n",
    "        print(y)\n",
    "        break"
   ]
  },
  {
   "cell_type": "code",
   "execution_count": 14,
   "id": "4c918a43",
   "metadata": {},
   "outputs": [
    {
     "name": "stdout",
     "output_type": "stream",
     "text": [
      "Printing keys...\n",
      "Toyota\n",
      "Car\n",
      "BHP\n",
      "Honda\n",
      "Car\n",
      "BHP\n",
      "Nissan\n",
      "Car\n",
      "BHP\n",
      "\n",
      "Printing values...\n",
      "Supra\n",
      "320\n",
      "S2000\n",
      "240\n",
      "Skyline R34\n",
      "276\n",
      "\n",
      "Printing key-value pair...\n",
      "Toyota  \n",
      "Car   Supra\n",
      "BHP   320\n",
      "Honda  \n",
      "Car   S2000\n",
      "BHP   240\n",
      "Nissan  \n",
      "Car   Skyline R34\n",
      "BHP   276\n"
     ]
    }
   ],
   "source": [
    "#task 7\n",
    "d={'Toyota':{'Car':'Supra','BHP':320}, 'Honda':{'Car':'S2000','BHP':240}, 'Nissan':{'Car':'Skyline R34','BHP':276}}\n",
    "emp={}\n",
    "\n",
    "print('Printing keys...')\n",
    "for x in d.keys():\n",
    "    emp=d[x]\n",
    "    print(x)\n",
    "    for k in emp.keys():\n",
    "        print(k)\n",
    "    \n",
    "print('\\nPrinting values...')\n",
    "for y in d.keys():\n",
    "    emp=d[y]\n",
    "    for l in emp.keys():\n",
    "        print(emp[l])\n",
    "    \n",
    "print('\\nPrinting key-value pair...')\n",
    "for z in d.keys():\n",
    "    emp=d[z]\n",
    "    print(z,\" \")\n",
    "    for m in emp.keys():\n",
    "        print(m,\" \",emp[m])\n"
   ]
  }
 ],
 "metadata": {
  "kernelspec": {
   "display_name": "Python 3 (ipykernel)",
   "language": "python",
   "name": "python3"
  },
  "language_info": {
   "codemirror_mode": {
    "name": "ipython",
    "version": 3
   },
   "file_extension": ".py",
   "mimetype": "text/x-python",
   "name": "python",
   "nbconvert_exporter": "python",
   "pygments_lexer": "ipython3",
   "version": "3.9.7"
  }
 },
 "nbformat": 4,
 "nbformat_minor": 5
}
